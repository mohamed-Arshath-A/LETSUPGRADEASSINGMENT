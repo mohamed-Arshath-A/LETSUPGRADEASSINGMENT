{
  "nbformat": 4,
  "nbformat_minor": 0,
  "metadata": {
    "colab": {
      "provenance": [],
      "toc_visible": true
    },
    "kernelspec": {
      "name": "python3",
      "display_name": "Python 3"
    },
    "language_info": {
      "name": "python"
    }
  },
  "cells": [
    {
      "cell_type": "markdown",
      "source": [
        "# ASSIGNMENT 1"
      ],
      "metadata": {
        "id": "QWMd1K5ZFx7u"
      }
    },
    {
      "cell_type": "markdown",
      "source": [
        "FUNCTIONS - CHECK NUMBER WHICH IS PRIME OR NOT"
      ],
      "metadata": {
        "id": "eSEK-oNiF9Ya"
      }
    },
    {
      "cell_type": "code",
      "source": [
        "def primeOrNot(num1):\n",
        "  num=num1%2\n",
        "  if num!=0 or num1/2==1:\n",
        "    print(\"{} is a prime number\".format(num1))\n",
        "  else:\n",
        "    print(\"{} is not a prime number\".format(num1))\n",
        "primeOrNot(2)      \n"
      ],
      "metadata": {
        "colab": {
          "base_uri": "https://localhost:8080/"
        },
        "id": "DaKxvbB9GMpq",
        "outputId": "a530bda3-4cda-4247-cfe7-ef6b9bb95b6d"
      },
      "execution_count": 35,
      "outputs": [
        {
          "output_type": "stream",
          "name": "stdout",
          "text": [
            "2 is a prime number\n"
          ]
        }
      ]
    }
  ]
}