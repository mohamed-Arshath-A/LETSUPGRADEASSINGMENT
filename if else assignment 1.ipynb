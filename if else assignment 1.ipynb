{
  "nbformat": 4,
  "nbformat_minor": 0,
  "metadata": {
    "colab": {
      "provenance": [],
      "toc_visible": true
    },
    "kernelspec": {
      "name": "python3",
      "display_name": "Python 3"
    },
    "language_info": {
      "name": "python"
    }
  },
  "cells": [
    {
      "cell_type": "markdown",
      "source": [
        "# ASSIGNMENT 1"
      ],
      "metadata": {
        "id": "QWMd1K5ZFx7u"
      }
    },
    {
      "cell_type": "markdown",
      "source": [
        "IF ELSE - WRITE A PROGRAM TO FIND A NUMBER IS EVEN OR ODD"
      ],
      "metadata": {
        "id": "eSEK-oNiF9Ya"
      }
    },
    {
      "cell_type": "code",
      "source": [
        "num = int(input(\"Enter the number:\"))\n",
        "if num%2==0:\n",
        "  print(\"{} is even\".format(num))\n",
        "else:\n",
        "  print(\"{} is odd\".format(num))\n",
        "    "
      ],
      "metadata": {
        "colab": {
          "base_uri": "https://localhost:8080/"
        },
        "id": "DaKxvbB9GMpq",
        "outputId": "afa76918-a9ae-40ba-a529-0f8aa584d966"
      },
      "execution_count": 3,
      "outputs": [
        {
          "output_type": "stream",
          "name": "stdout",
          "text": [
            "Enter the number:1234\n",
            "1234 is even\n"
          ]
        }
      ]
    }
  ]
}